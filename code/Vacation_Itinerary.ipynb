{
 "cells": [
  {
   "cell_type": "markdown",
   "metadata": {},
   "source": [
    "## Deliverable 3. Create a Travel Itinerary Map."
   ]
  },
  {
   "cell_type": "code",
   "execution_count": 1,
   "metadata": {},
   "outputs": [],
   "source": [
    "# Dependencies and Setup\n",
    "import pandas as pd\n",
    "import requests\n",
    "import gmaps\n",
    "\n",
    "# Import API key\n",
    "from config import g_key\n",
    "\n",
    "# Configure gmaps\n",
    "gmaps.configure(api_key=g_key)"
   ]
  },
  {
   "cell_type": "code",
   "execution_count": 2,
   "metadata": {},
   "outputs": [
    {
     "data": {
      "text/html": [
       "<div>\n",
       "<style scoped>\n",
       "    .dataframe tbody tr th:only-of-type {\n",
       "        vertical-align: middle;\n",
       "    }\n",
       "\n",
       "    .dataframe tbody tr th {\n",
       "        vertical-align: top;\n",
       "    }\n",
       "\n",
       "    .dataframe thead th {\n",
       "        text-align: right;\n",
       "    }\n",
       "</style>\n",
       "<table border=\"1\" class=\"dataframe\">\n",
       "  <thead>\n",
       "    <tr style=\"text-align: right;\">\n",
       "      <th></th>\n",
       "      <th>City_ID</th>\n",
       "      <th>City</th>\n",
       "      <th>Country</th>\n",
       "      <th>Max Temp</th>\n",
       "      <th>Current Description</th>\n",
       "      <th>Lat</th>\n",
       "      <th>Lon</th>\n",
       "      <th>Hotel Name</th>\n",
       "    </tr>\n",
       "  </thead>\n",
       "  <tbody>\n",
       "    <tr>\n",
       "      <th>0</th>\n",
       "      <td>21</td>\n",
       "      <td>arraial do cabo</td>\n",
       "      <td>br</td>\n",
       "      <td>71.56</td>\n",
       "      <td>broken clouds</td>\n",
       "      <td>-22.9661</td>\n",
       "      <td>-42.0278</td>\n",
       "      <td>Pousada Porto Praia</td>\n",
       "    </tr>\n",
       "    <tr>\n",
       "      <th>1</th>\n",
       "      <td>41</td>\n",
       "      <td>puerto ayora</td>\n",
       "      <td>ec</td>\n",
       "      <td>69.62</td>\n",
       "      <td>broken clouds</td>\n",
       "      <td>-0.7393</td>\n",
       "      <td>-90.3518</td>\n",
       "      <td>Finch Bay Galapagos Hotel</td>\n",
       "    </tr>\n",
       "    <tr>\n",
       "      <th>2</th>\n",
       "      <td>98</td>\n",
       "      <td>ponta do sol</td>\n",
       "      <td>cv</td>\n",
       "      <td>68.63</td>\n",
       "      <td>few clouds</td>\n",
       "      <td>32.6667</td>\n",
       "      <td>-17.1000</td>\n",
       "      <td>Hotel do Campo</td>\n",
       "    </tr>\n",
       "    <tr>\n",
       "      <th>3</th>\n",
       "      <td>99</td>\n",
       "      <td>luwingu</td>\n",
       "      <td>zm</td>\n",
       "      <td>67.80</td>\n",
       "      <td>overcast clouds</td>\n",
       "      <td>-10.2621</td>\n",
       "      <td>29.9271</td>\n",
       "      <td>MR.C SIMON CHABALA (Maje, Home Place)</td>\n",
       "    </tr>\n",
       "    <tr>\n",
       "      <th>4</th>\n",
       "      <td>100</td>\n",
       "      <td>kasama</td>\n",
       "      <td>zm</td>\n",
       "      <td>67.23</td>\n",
       "      <td>overcast clouds</td>\n",
       "      <td>-10.2129</td>\n",
       "      <td>31.1808</td>\n",
       "      <td>Kalebalika Cottages</td>\n",
       "    </tr>\n",
       "  </tbody>\n",
       "</table>\n",
       "</div>"
      ],
      "text/plain": [
       "   City_ID             City Country  Max Temp Current Description      Lat  \\\n",
       "0       21  arraial do cabo      br     71.56       broken clouds -22.9661   \n",
       "1       41     puerto ayora      ec     69.62       broken clouds  -0.7393   \n",
       "2       98     ponta do sol      cv     68.63          few clouds  32.6667   \n",
       "3       99          luwingu      zm     67.80     overcast clouds -10.2621   \n",
       "4      100           kasama      zm     67.23     overcast clouds -10.2129   \n",
       "\n",
       "       Lon                             Hotel Name  \n",
       "0 -42.0278                    Pousada Porto Praia  \n",
       "1 -90.3518              Finch Bay Galapagos Hotel  \n",
       "2 -17.1000                         Hotel do Campo  \n",
       "3  29.9271  MR.C SIMON CHABALA (Maje, Home Place)  \n",
       "4  31.1808                    Kalebalika Cottages  "
      ]
     },
     "execution_count": 2,
     "metadata": {},
     "output_type": "execute_result"
    }
   ],
   "source": [
    "# 1. Read the WeatherPy_vacation.csv into a DataFrame.\n",
    "vacation_df = pd.read_csv(\"../Resources/WeatherPy_vacation.csv\")\n",
    "vacation_df.head()"
   ]
  },
  {
   "cell_type": "code",
   "execution_count": 3,
   "metadata": {},
   "outputs": [],
   "source": [
    "# 2. Using the template add the city name, the country code, the weather description and maximum temperature for the city.\n",
    "info_box_template = \"\"\"Hotel Name:{}{}{} City:{}{}{} Country:{}{}{} Curent Weather:{}{} and {} F\"\"\"\n",
    "\n",
    "# 10a. Get the data from each row and add it to the formatting template and store the data in a list.\n",
    "hotel_info = [info_box_template.format('<br/>',row[7],'<br/>','<br/>',row[1],'<br/>','<br/>',row[2],'<br/>','<br/>',row[4],row[3]) for index, row in vacation_df.iterrows()]\n",
    "hotel_info\n",
    "# 3b. Get the latitude and longitude from each row and store in a new DataFrame.\n",
    "locations = vacation_df[[\"Lat\", \"Lon\"]]"
   ]
  },
  {
   "cell_type": "code",
   "execution_count": 4,
   "metadata": {},
   "outputs": [
    {
     "data": {
      "application/vnd.jupyter.widget-view+json": {
       "model_id": "4da532e4dcf243c5b636f3d7a1488951",
       "version_major": 2,
       "version_minor": 0
      },
      "text/plain": [
       "Figure(layout=FigureLayout(height='420px'))"
      ]
     },
     "metadata": {},
     "output_type": "display_data"
    }
   ],
   "source": [
    "# 4a. Add a marker layer for each city to the map.\n",
    "gmaps.configure(api_key=g_key)\n",
    "fig = gmaps.figure()\n",
    "# marker_layer = gmaps.marker_layer(locations,label=hotel_info)\n",
    "marker_layer = gmaps.marker_layer(locations,info_box_content=hotel_info,display_info_box=True)\n",
    "fig.add_layer(marker_layer)\n",
    "# 4b. Display the figure\n",
    "fig"
   ]
  },
  {
   "cell_type": "code",
   "execution_count": 5,
   "metadata": {},
   "outputs": [],
   "source": [
    "# From the map above pick 4 cities and create a vacation itinerary route to travel between the four cities. \n",
    "# 5. Create DataFrames for each city by filtering the 'vacation_df' using the loc method. \n",
    "# Hint: The starting and ending city should be the same city.\n",
    "\n",
    "vacation_start = vacation_df.loc[(vacation_df['City']=='alta floresta') & (vacation_df['Country']=='br')]\n",
    "vacation_end   = vacation_df.loc[(vacation_df['City']=='alta floresta') & (vacation_df['Country']=='br')]\n",
    "vacation_stop1 = vacation_df.loc[(vacation_df['City']=='chapada dos guimaraes') & (vacation_df['Country']=='br')]\n",
    "vacation_stop2 = vacation_df.loc[(vacation_df['City']=='macaubas') & (vacation_df['Country']=='br')]\n",
    "vacation_stop3 = vacation_df.loc[(vacation_df['City']=='sao joao dos patos') & (vacation_df['Country']=='br')]"
   ]
  },
  {
   "cell_type": "code",
   "execution_count": 6,
   "metadata": {},
   "outputs": [
    {
     "name": "stdout",
     "output_type": "stream",
     "text": [
      "(-9.8756, -56.0861) (-9.8756, -56.0861) (-15.4606, -55.7497) (-13.0194, -42.6986) (-6.495, -43.7022)\n"
     ]
    }
   ],
   "source": [
    "# 6. Get the latitude-longitude pairs as tuples from each city DataFrame using the to_numpy function and list indexing.\n",
    "# start = vacation_start[[\"Lat\", \"Lon\"]]\n",
    "# end = vacation_end[[\"Lat\", \"Lon\"]]\n",
    "# stop1 = vacation_stop1[[\"Lat\", \"Lon\"]]\n",
    "# stop2 = vacation_stop2[[\"Lat\", \"Lon\"]]\n",
    "# stop3 = vacation_stop3[[\"Lat\", \"Lon\"]]\n",
    "# start.to_numpy()\n",
    "# end.to_numpy()\n",
    "# stop1.to_numpy()\n",
    "# stop2.to_numpy()\n",
    "# stop3.to_numpy()\n",
    "start = tuple([vacation_start.iloc[0][5],vacation_start.iloc[0][6]])\n",
    "end = tuple([vacation_end.iloc[0][5],vacation_end.iloc[0][6]])\n",
    "stop1 = tuple([vacation_stop1.iloc[0][5],vacation_stop1.iloc[0][6]])\n",
    "stop2 = tuple([vacation_stop2.iloc[0][5],vacation_stop2.iloc[0][6]])\n",
    "stop3 = tuple([vacation_stop3.iloc[0][5],vacation_stop3.iloc[0][6]])\n",
    "print(start,end,stop1,stop2,stop3)"
   ]
  },
  {
   "cell_type": "code",
   "execution_count": 11,
   "metadata": {
    "scrolled": true
   },
   "outputs": [
    {
     "data": {
      "application/vnd.jupyter.widget-view+json": {
       "model_id": "b2a98bb082d447bd9e522ea1d0b31dce",
       "version_major": 2,
       "version_minor": 0
      },
      "text/plain": [
       "Figure(layout=FigureLayout(height='420px'))"
      ]
     },
     "metadata": {},
     "output_type": "display_data"
    }
   ],
   "source": [
    "# 7. Create a direction layer map using the start and end latitude-longitude pairs,\n",
    "# and stop1, stop2, and stop3 as the waypoints. The travel_mode should be \"DRIVING\", \"BICYCLING\", or \"WALKING\".\n",
    "# geneva = (46.2, 6.1)\n",
    "# montreux = (46.4, 6.9)\n",
    "# zurich = (47.4, 8.5)\n",
    "\n",
    "# fig = gmaps.figure()\n",
    "# geneva2zurich = gmaps.directions_layer(geneva, zurich)\n",
    "# fig.add_layer(geneva2zurich)\n",
    "# fig\n",
    "fig = gmaps.figure()\n",
    "start2end_via3stop_brazil = gmaps.directions_layer(start,end, waypoints=[stop1,stop2,stop3], travel_mode='WALKING')\n",
    "# start2end_via3stop_brazil = gmaps.directions_layer(start,stop1)\n",
    "fig.add_layer(start2end_via3stop_brazil)\n",
    "fig\n"
   ]
  },
  {
   "cell_type": "code",
   "execution_count": 12,
   "metadata": {},
   "outputs": [
    {
     "data": {
      "text/html": [
       "<div>\n",
       "<style scoped>\n",
       "    .dataframe tbody tr th:only-of-type {\n",
       "        vertical-align: middle;\n",
       "    }\n",
       "\n",
       "    .dataframe tbody tr th {\n",
       "        vertical-align: top;\n",
       "    }\n",
       "\n",
       "    .dataframe thead th {\n",
       "        text-align: right;\n",
       "    }\n",
       "</style>\n",
       "<table border=\"1\" class=\"dataframe\">\n",
       "  <thead>\n",
       "    <tr style=\"text-align: right;\">\n",
       "      <th></th>\n",
       "      <th>City_ID</th>\n",
       "      <th>City</th>\n",
       "      <th>Country</th>\n",
       "      <th>Max Temp</th>\n",
       "      <th>Current Description</th>\n",
       "      <th>Lat</th>\n",
       "      <th>Lon</th>\n",
       "      <th>Hotel Name</th>\n",
       "    </tr>\n",
       "  </thead>\n",
       "  <tbody>\n",
       "    <tr>\n",
       "      <th>0</th>\n",
       "      <td>566</td>\n",
       "      <td>alta floresta</td>\n",
       "      <td>br</td>\n",
       "      <td>71.46</td>\n",
       "      <td>overcast clouds</td>\n",
       "      <td>-9.8756</td>\n",
       "      <td>-56.0861</td>\n",
       "      <td>Floresta Amazonica Hotel</td>\n",
       "    </tr>\n",
       "    <tr>\n",
       "      <th>1</th>\n",
       "      <td>1423</td>\n",
       "      <td>chapada dos guimaraes</td>\n",
       "      <td>br</td>\n",
       "      <td>69.46</td>\n",
       "      <td>overcast clouds</td>\n",
       "      <td>-15.4606</td>\n",
       "      <td>-55.7497</td>\n",
       "      <td>Pousada Morro Dos Ventos</td>\n",
       "    </tr>\n",
       "    <tr>\n",
       "      <th>2</th>\n",
       "      <td>336</td>\n",
       "      <td>macaubas</td>\n",
       "      <td>br</td>\n",
       "      <td>69.44</td>\n",
       "      <td>overcast clouds</td>\n",
       "      <td>-13.0194</td>\n",
       "      <td>-42.6986</td>\n",
       "      <td>Macaúbas Palace Hotel</td>\n",
       "    </tr>\n",
       "    <tr>\n",
       "      <th>3</th>\n",
       "      <td>1597</td>\n",
       "      <td>sao joao dos patos</td>\n",
       "      <td>br</td>\n",
       "      <td>71.42</td>\n",
       "      <td>overcast clouds</td>\n",
       "      <td>-6.4950</td>\n",
       "      <td>-43.7022</td>\n",
       "      <td>Montesino Hotel &amp; Restaurante</td>\n",
       "    </tr>\n",
       "  </tbody>\n",
       "</table>\n",
       "</div>"
      ],
      "text/plain": [
       "   City_ID                   City Country  Max Temp Current Description  \\\n",
       "0      566          alta floresta      br     71.46     overcast clouds   \n",
       "1     1423  chapada dos guimaraes      br     69.46     overcast clouds   \n",
       "2      336               macaubas      br     69.44     overcast clouds   \n",
       "3     1597     sao joao dos patos      br     71.42     overcast clouds   \n",
       "\n",
       "       Lat      Lon                     Hotel Name  \n",
       "0  -9.8756 -56.0861       Floresta Amazonica Hotel  \n",
       "1 -15.4606 -55.7497       Pousada Morro Dos Ventos  \n",
       "2 -13.0194 -42.6986          Macaúbas Palace Hotel  \n",
       "3  -6.4950 -43.7022  Montesino Hotel & Restaurante  "
      ]
     },
     "execution_count": 12,
     "metadata": {},
     "output_type": "execute_result"
    }
   ],
   "source": [
    "# 8. To create a marker layer map between the four cities.\n",
    "#  Combine the four city DataFrames into one DataFrame using the concat() function.\n",
    "itinerary_df = pd.concat([vacation_start,vacation_stop1,vacation_stop2,vacation_stop3],ignore_index=True)\n",
    "itinerary_df"
   ]
  },
  {
   "cell_type": "code",
   "execution_count": 13,
   "metadata": {},
   "outputs": [
    {
     "data": {
      "text/plain": [
       "['Hotel Name:<br/>Floresta Amazonica Hotel<br/> City:<br/>alta floresta<br/> Country:<br/>br<br/> Curent Weather:<br/>overcast clouds and br F',\n",
       " 'Hotel Name:<br/>Pousada Morro Dos Ventos<br/> City:<br/>chapada dos guimaraes<br/> Country:<br/>br<br/> Curent Weather:<br/>overcast clouds and br F',\n",
       " 'Hotel Name:<br/>Macaúbas Palace Hotel<br/> City:<br/>macaubas<br/> Country:<br/>br<br/> Curent Weather:<br/>overcast clouds and br F',\n",
       " 'Hotel Name:<br/>Montesino Hotel & Restaurante<br/> City:<br/>sao joao dos patos<br/> Country:<br/>br<br/> Curent Weather:<br/>overcast clouds and br F']"
      ]
     },
     "execution_count": 13,
     "metadata": {},
     "output_type": "execute_result"
    }
   ],
   "source": [
    "# 9 Using the template add city name, the country code, the weather description and maximum temperature for the city. \n",
    "info_box_template = \"\"\"Hotel Name:{}{}{} City:{}{}{} Country:{}{}{} Curent Weather:{}{} and {} F\"\"\"\n",
    "\n",
    "# 10a Get the data from each row and add it to the formatting template and store the data in a list.\n",
    "hotel_info = [info_box_template.format('<br/>',row[7],'<br/>','<br/>',row[1],'<br/>','<br/>',row[2],'<br/>','<br/>',row[4],row[2]) for index, row in itinerary_df.iterrows()]\n",
    "hotel_info"
   ]
  },
  {
   "cell_type": "code",
   "execution_count": 15,
   "metadata": {
    "scrolled": true
   },
   "outputs": [
    {
     "data": {
      "application/vnd.jupyter.widget-view+json": {
       "model_id": "b2a98bb082d447bd9e522ea1d0b31dce",
       "version_major": 2,
       "version_minor": 0
      },
      "text/plain": [
       "Figure(layout=FigureLayout(height='420px'))"
      ]
     },
     "metadata": {},
     "output_type": "display_data"
    }
   ],
   "source": [
    "locations = itinerary_df[[\"Lat\", \"Lon\"]]\n",
    "# 11a. Add a marker layer for each city to the map.\n",
    "marker_layer = gmaps.marker_layer(locations,info_box_content=hotel_info,display_info_box=True)\n",
    "fig.add_layer(marker_layer)\n",
    "# 11b. Display the figure\n",
    "fig"
   ]
  },
  {
   "cell_type": "code",
   "execution_count": null,
   "metadata": {},
   "outputs": [],
   "source": []
  }
 ],
 "metadata": {
  "kernelspec": {
   "display_name": "PythonData",
   "language": "python",
   "name": "pythondata"
  },
  "language_info": {
   "codemirror_mode": {
    "name": "ipython",
    "version": 3
   },
   "file_extension": ".py",
   "mimetype": "text/x-python",
   "name": "python",
   "nbconvert_exporter": "python",
   "pygments_lexer": "ipython3",
   "version": "3.8.8"
  },
  "latex_envs": {
   "LaTeX_envs_menu_present": true,
   "autoclose": false,
   "autocomplete": true,
   "bibliofile": "biblio.bib",
   "cite_by": "apalike",
   "current_citInitial": 1,
   "eqLabelWithNumbers": true,
   "eqNumInitial": 1,
   "hotkeys": {
    "equation": "Ctrl-E",
    "itemize": "Ctrl-I"
   },
   "labels_anchors": false,
   "latex_user_defs": false,
   "report_style_numbering": false,
   "user_envs_cfg": false
  }
 },
 "nbformat": 4,
 "nbformat_minor": 2
}
